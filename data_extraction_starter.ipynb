{
 "cells": [
  {
   "cell_type": "markdown",
   "metadata": {},
   "source": [
    "### NLP Research Internship Assignment Biomedical Text Analysis\n",
    "*data_extraction_starter.ipynb*"
   ]
  },
  {
   "cell_type": "code",
   "execution_count": 3,
   "metadata": {
    "ExecuteTime": {
     "end_time": "2023-10-03T11:05:31.381492815Z",
     "start_time": "2023-10-03T11:05:31.217977579Z"
    }
   },
   "outputs": [
    {
     "name": "stderr",
     "output_type": "stream",
     "text": [
      "[nltk_data] Downloading package stopwords to /home/mahshy/nltk_data...\n",
      "[nltk_data]   Package stopwords is already up-to-date!\n",
      "[nltk_data] Downloading package punkt to /home/mahshy/nltk_data...\n",
      "[nltk_data]   Package punkt is already up-to-date!\n"
     ]
    }
   ],
   "source": [
    "# Import necessary libraries\n",
    "from Bio import Entrez\n",
    "import ssl\n",
    "import nltk\n",
    "nltk.download('stopwords')\n",
    "nltk.download('punkt')\n",
    "import re\n",
    "from nltk.corpus import stopwords\n",
    "from nltk.tokenize import word_tokenize\n",
    "from nltk.stem import PorterStemmer\n",
    "from nltk.stem import WordNetLemmatizer\n",
    "\n",
    "# Bypass SSL certificate verification\n",
    "ssl._create_default_https_context = ssl._create_unverified_context"
   ]
  },
  {
   "cell_type": "code",
   "execution_count": 4,
   "metadata": {
    "ExecuteTime": {
     "end_time": "2023-10-03T11:05:32.730633328Z",
     "start_time": "2023-10-03T11:05:32.722690993Z"
    }
   },
   "outputs": [],
   "source": [
    "# Function to fetch abstracts from PubMed using MeSH terms\n",
    "def fetch_abstracts(term, max_results=1000):\n",
    "    \"\"\"\n",
    "    Fetch abstracts from PubMed based on search terms.\n",
    "    \n",
    "    Parameters:\n",
    "    term (str): Search term or MeSH term for querying PubMed.\n",
    "    max_results (int): Maximum number of results to fetch.\n",
    "    \n",
    "    Returns:\n",
    "    list: A list of abstracts fetched from PubMed.\n",
    "    \"\"\"\n",
    "    \n",
    "    # Provide contact email for Entrez\n",
    "    Entrez.email = \"info@toxgensolutions.eu\"\n",
    "    \n",
    "    # Perform the search query using Entrez\n",
    "    handle = Entrez.esearch(db=\"pubmed\", term=term, retmax=max_results)\n",
    "    \n",
    "    # Read search results\n",
    "    record = Entrez.read(handle)\n",
    "    handle.close()\n",
    "    \n",
    "    # Extract PubMed IDs from the search results\n",
    "    id_list = record[\"IdList\"]\n",
    "    \n",
    "    # Check if search returned results\n",
    "    if not id_list:\n",
    "        print(\"No results found.\")\n",
    "        return []\n",
    "    \n",
    "    # Fetch abstracts based on PubMed IDs\n",
    "    handle = Entrez.efetch(db=\"pubmed\", id=id_list, rettype=\"abstract\", retmode=\"text\")\n",
    "    \n",
    "    # Read and split the abstracts\n",
    "    abstracts = handle.read().split(\"\\n\\n\")\n",
    "    handle.close()\n",
    "    \n",
    "    return abstracts"
   ]
  },
  {
   "cell_type": "code",
   "execution_count": 5,
   "metadata": {
    "ExecuteTime": {
     "end_time": "2023-10-03T11:05:58.159018787Z",
     "start_time": "2023-10-03T11:05:38.515310497Z"
    }
   },
   "outputs": [
    {
     "name": "stdout",
     "output_type": "stream",
     "text": [
      "First 5 abstracts:\n",
      "\n",
      "1. 1. Int J Cancer. 2023 Oct 3. doi: 10.1002/ijc.34745. Online ahead of print.\n",
      "\n",
      "2. Immune landscape of vulvar cancer patients treated with surgery and adjuvant \n",
      "radiotherapy revealed restricted T cell functionality and increased IL-17 \n",
      "expression associated with cancer relapse.\n",
      "\n",
      "3. Gies S(1), Melchior P(2), Stroeder R(3), Tänzer T(1), Theobald L(1), Pohlers \n",
      "M(1), Glombitza B(1), Sester M(4), Solomayer EF(3), Walch-Rückheim B(1).\n",
      "\n",
      "4. Author information:\n",
      "(1)Center of Human and Molecular Biology (ZHMB), Institute of Virology, Saarland \n",
      "University, Homburg, Saar, Germany.\n",
      "(2)Department of Radiation Oncology, Saarland University Medical Center, \n",
      "Homburg, Saar, Germany.\n",
      "(3)Department of Obstetrics and Gynecology, Saarland University Medical Center, \n",
      "Homburg, Saar, Germany.\n",
      "(4)Department of Transplant and Infection Immunology, Saarland University, \n",
      "Homburg, Saar, Germany.\n",
      "\n",
      "5. For vulvar cancers, radiotherapy is targeting cancer cells, but also affects the \n",
      "host immune system. As this may affect treatment outcome, in this prospective \n",
      "study, we characterized the individual T cell immune milieu induced by surgery \n",
      "and adjuvant radio +/- chemotherapy (aRT) systemically in the blood of vulvar \n",
      "cancer patients and found increased frequencies of Interleukin (IL)-17-producing \n",
      "CD4+ and CD8+ T cells after aRT while frequencies of Th1 and perforin-producing \n",
      "CD8+ killer cells were strongly diminished. Phenotypic characterization revealed \n",
      "enhanced expression of the ectonucleotidase CD39 on Th17 and Tc17 cells as well \n",
      "as CD8+ perforin+ cells after aRT. Furthermore, the aRT cohort exhibited \n",
      "increased proportions of Programmed Cell Death Protein (PD-1) expressing cells \n",
      "among Th1 and CD8+ perforin+ cells, but not among Th17 and Tc17 cells. High \n",
      "post-therapeutic levels of Th17 and Tc17 cells and low proportions of Th1 and \n",
      "CD8+ perforin+ cells expressing PD-1 was associated with reduced recurrence free \n",
      "survival on follow-up. In conclusion, our study defines individual \n",
      "therapy-induced changes in the cellular immune milieu of patients and their \n",
      "association with cancer relapse. Our results may help to explain differences in \n",
      "the individual courses of disease of vulvar cancer patients and suggest PD-1 and \n",
      "IL-17 as targets for immunotherapy in vulvar cancer.\n"
     ]
    }
   ],
   "source": [
    "# Define the search term, e.g., \"Cancer Immunotherapy\"\n",
    "search_term = \"Cancer Immunotherapy\"\n",
    "\n",
    "# Fetch abstracts using the search term\n",
    "abstracts = fetch_abstracts(search_term)\n",
    "\n",
    "# Display first 5 abstracts for quick inspection (optional)\n",
    "print(\"First 5 abstracts:\\n\")\n",
    "for i, abstract in enumerate(abstracts[:5]):\n",
    "    print(f\"{i+1}. {abstract}\\n\")"
   ]
  },
  {
   "cell_type": "markdown",
   "source": [
    "## Cleaning and preprocessing data"
   ],
   "metadata": {
    "collapsed": false
   }
  },
  {
   "cell_type": "code",
   "execution_count": 6,
   "outputs": [],
   "source": [
    "\n",
    "# remove meta data out of text\n",
    "def remove_metadata(text):\n",
    "    return [line for line in text if not re.match(r'^\\d+\\.',line)]\n",
    "\n",
    "\n",
    "# Tokenization, stopwords removal, and stemming\n",
    "stemmer = PorterStemmer()\n",
    "stop_words = set(stopwords.words('english'))\n",
    "\n",
    "def preprocess_text(text):\n",
    "    # remove special characters and extra spaces\n",
    "    cleaned_text = re.sub(r'[^a-zA-Z0-9\\s]', '', text)\n",
    "\n",
    "    # Convert text to lowercase\n",
    "    cleaned_text = cleaned_text.lower()\n",
    "    \n",
    "     # Tokenize the text into words\n",
    "    tokens = nltk.word_tokenize(cleaned_text)\n",
    "    \n",
    "    # Remove stopwords\n",
    "    tokens = [stemmer.stem(word) for word in tokens if word.lower() not in stop_words]\n",
    "    \n",
    "    # Join the words back into a cleaned text\n",
    "    cleaned_text = ' '.join(tokens)\n",
    "    return cleaned_text\n",
    "\n",
    "# select introduction out of test \n",
    "def select_introduction(abstracts):\n",
    "    cleaned_abstracts = []\n",
    "    for abstract in abstracts:\n",
    "        if abstract[:12] == 'INTRODUCTION':\n",
    "            cleaned_abstracts.append(abstract)\n",
    "    return cleaned_abstracts\n",
    "\n"
   ],
   "metadata": {
    "collapsed": false,
    "ExecuteTime": {
     "end_time": "2023-10-03T11:20:43.606133114Z",
     "start_time": "2023-10-03T11:20:43.563323214Z"
    }
   }
  },
  {
   "cell_type": "code",
   "execution_count": 9,
   "outputs": [],
   "source": [
    "abstracts_no_meta = remove_metadata(abstracts)\n",
    "cleaned_data = [preprocess_text(abstract) for abstract in abstracts_no_meta]"
   ],
   "metadata": {
    "collapsed": false,
    "ExecuteTime": {
     "end_time": "2023-10-03T11:25:33.544109484Z",
     "start_time": "2023-10-03T11:25:28.536796964Z"
    }
   }
  },
  {
   "cell_type": "code",
   "execution_count": null,
   "outputs": [],
   "source": [],
   "metadata": {
    "collapsed": false
   }
  }
 ],
 "metadata": {
  "language_info": {
   "name": "python"
  },
  "orig_nbformat": 4,
  "kernelspec": {
   "name": "python3",
   "language": "python",
   "display_name": "Python 3 (ipykernel)"
  }
 },
 "nbformat": 4,
 "nbformat_minor": 2
}
